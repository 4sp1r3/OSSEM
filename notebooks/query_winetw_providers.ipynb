{
 "cells": [
  {
   "cell_type": "markdown",
   "metadata": {},
   "source": [
    "# Query Windows ETW Providers\n",
    "-----------------------------\n",
    "**Goal**: You can use this notebook to look for specific field names on every ETW provider available in the OSSEM project\n",
    "\n",
    "**Author**: Roberto Rodriguez @Cyb3rWard0g\n",
    "\n",
    "**References**: https://github.com/jdu2600/Windows10EtwEvents#windows-10-etw-events"
   ]
  },
  {
   "cell_type": "markdown",
   "metadata": {},
   "source": [
    "## Import Libraries"
   ]
  },
  {
   "cell_type": "code",
   "execution_count": 1,
   "metadata": {},
   "outputs": [],
   "source": [
    "import glob\n",
    "import json"
   ]
  },
  {
   "cell_type": "markdown",
   "metadata": {},
   "source": [
    "## Load Every File JSON Path"
   ]
  },
  {
   "cell_type": "code",
   "execution_count": 2,
   "metadata": {},
   "outputs": [],
   "source": [
    "json_files = glob.glob(\"json/*.json\")"
   ]
  },
  {
   "cell_type": "markdown",
   "metadata": {},
   "source": [
    "## What Would You Like to Look for?"
   ]
  },
  {
   "cell_type": "code",
   "execution_count": 3,
   "metadata": {},
   "outputs": [],
   "source": [
    "field_name = \"IpAddress\""
   ]
  },
  {
   "cell_type": "markdown",
   "metadata": {},
   "source": [
    "## Loop Through Files"
   ]
  },
  {
   "cell_type": "code",
   "execution_count": 4,
   "metadata": {},
   "outputs": [
    {
     "name": "stdout",
     "output_type": "stream",
     "text": [
      "Provider: Microsoft-Antimalware-Service, Version: 0, EventID: 51, FieldName: LocalIpAddressLength\n",
      "Provider: Microsoft-Antimalware-Service, Version: 0, EventID: 51, FieldName: LocalIpAddress\n",
      "Provider: Microsoft-Antimalware-Service, Version: 0, EventID: 51, FieldName: RemoteIpAddressLength\n",
      "Provider: Microsoft-Antimalware-Service, Version: 0, EventID: 51, FieldName: RemoteIpAddress\n",
      "Provider: Microsoft-Windows-Iphlpsvc-Trace, Version: 0, EventID: 4051, FieldName: SourceIPAddress\n",
      "Provider: Microsoft-Windows-Iphlpsvc-Trace, Version: 0, EventID: 4051, FieldName: DestinationIPAddress\n",
      "Provider: Microsoft-Windows-Iphlpsvc-Trace, Version: 0, EventID: 4052, FieldName: SourceIPAddress\n",
      "Provider: Microsoft-Windows-Iphlpsvc-Trace, Version: 0, EventID: 4052, FieldName: DestinationIPAddress\n",
      "Provider: Microsoft-Windows-Iphlpsvc-Trace, Version: 0, EventID: 4053, FieldName: SourceIPAddress\n",
      "Provider: Microsoft-Windows-Iphlpsvc-Trace, Version: 0, EventID: 4053, FieldName: DestinationIPAddress\n",
      "Provider: Microsoft-Windows-Iphlpsvc-Trace, Version: 0, EventID: 4053, FieldName: TargetIPAddress\n",
      "Provider: Microsoft-Windows-Iphlpsvc-Trace, Version: 0, EventID: 4063, FieldName: DestinationIPAddress\n",
      "Provider: Microsoft-Windows-Iphlpsvc-Trace, Version: 0, EventID: 4064, FieldName: DestinationIPAddress\n",
      "Provider: Microsoft-Windows-Iphlpsvc-Trace, Version: 0, EventID: 4066, FieldName: DestinationIPAddress\n",
      "Provider: Microsoft-Windows-Iphlpsvc-Trace, Version: 0, EventID: 4066, FieldName: TargetIPAddress\n",
      "Provider: Microsoft-Windows-Iphlpsvc-Trace, Version: 0, EventID: 4163, FieldName: IPAddress\n",
      "Provider: Microsoft-Windows-Iphlpsvc-Trace, Version: 0, EventID: 4166, FieldName: IPAddress\n",
      "Provider: Microsoft-Windows-Iphlpsvc-Trace, Version: 0, EventID: 4169, FieldName: IPAddress\n",
      "Provider: Microsoft-Windows-NlaSvc, Version: 0, EventID: 4203, FieldName: GatewayIpAddress\n",
      "Provider: Microsoft-Windows-NlaSvc, Version: 0, EventID: 4204, FieldName: GatewayIpAddress\n",
      "Provider: Microsoft-Windows-NlaSvc, Version: 0, EventID: 4205, FieldName: GatewayIpAddress\n",
      "Provider: Microsoft-Windows-Base-Filtering-Engine-Connections, Version: 0, EventID: 2000, FieldName: RemoteIPAddress\n",
      "Provider: Microsoft-Windows-Base-Filtering-Engine-Connections, Version: 0, EventID: 2000, FieldName: LocalIPAddress\n",
      "Provider: Microsoft-Windows-Base-Filtering-Engine-Connections, Version: 0, EventID: 2001, FieldName: RemoteIPAddress\n",
      "Provider: Microsoft-Windows-Base-Filtering-Engine-Connections, Version: 0, EventID: 2001, FieldName: LocalIPAddress\n",
      "Provider: Microsoft-Windows-HttpService, Version: 0, EventID: 19, FieldName: IpAddress\n",
      "Provider: Microsoft-Windows-HttpService, Version: 0, EventID: 93, FieldName: IpAddress\n",
      "Provider: Microsoft-Windows-WMPNSS-Service, Version: 0, EventID: 14104, FieldName: IPAddress\n",
      "Provider: Microsoft-Windows-SMBWitnessClient, Version: 0, EventID: 17, FieldName: IPAddress\n",
      "Provider: Microsoft-Windows-SMBWitnessClient, Version: 0, EventID: 18, FieldName: IPAddress\n",
      "Provider: Microsoft-Windows-Security-Auditing, Version: 0, EventID: 4624, FieldName: IpAddress\n",
      "Provider: Microsoft-Windows-Security-Auditing, Version: 1, EventID: 4624, FieldName: IpAddress\n",
      "Provider: Microsoft-Windows-Security-Auditing, Version: 2, EventID: 4624, FieldName: IpAddress\n",
      "Provider: Microsoft-Windows-Security-Auditing, Version: 0, EventID: 4625, FieldName: IpAddress\n",
      "Provider: Microsoft-Windows-Security-Auditing, Version: 0, EventID: 4648, FieldName: IpAddress\n",
      "Provider: Microsoft-Windows-Security-Auditing, Version: 0, EventID: 4768, FieldName: IpAddress\n",
      "Provider: Microsoft-Windows-Security-Auditing, Version: 0, EventID: 4769, FieldName: IpAddress\n",
      "Provider: Microsoft-Windows-Security-Auditing, Version: 0, EventID: 4770, FieldName: IpAddress\n",
      "Provider: Microsoft-Windows-Security-Auditing, Version: 0, EventID: 4771, FieldName: IpAddress\n",
      "Provider: Microsoft-Windows-Security-Auditing, Version: 0, EventID: 4772, FieldName: IpAddress\n",
      "Provider: Microsoft-Windows-Security-Auditing, Version: 0, EventID: 4773, FieldName: IpAddress\n",
      "Provider: Microsoft-Windows-Security-Auditing, Version: 0, EventID: 4820, FieldName: IpAddress\n",
      "Provider: Microsoft-Windows-Security-Auditing, Version: 0, EventID: 4821, FieldName: IpAddress\n",
      "Provider: Microsoft-Windows-Security-Auditing, Version: 0, EventID: 4824, FieldName: IpAddress\n",
      "Provider: Microsoft-Windows-Security-Auditing, Version: 0, EventID: 5140, FieldName: IpAddress\n",
      "Provider: Microsoft-Windows-Security-Auditing, Version: 1, EventID: 5140, FieldName: IpAddress\n",
      "Provider: Microsoft-Windows-Security-Auditing, Version: 0, EventID: 5145, FieldName: IpAddress\n",
      "Provider: Microsoft-Windows-Security-Auditing, Version: 0, EventID: 5168, FieldName: IpAddresses\n",
      "Provider: Microsoft-Windows-Security-Auditing, Version: 0, EventID: 5712, FieldName: RemoteIpAddress\n",
      "Provider: Microsoft-Windows-Security-Auditing, Version: 0, EventID: 6272, FieldName: ClientIPAddress\n",
      "Provider: Microsoft-Windows-Security-Auditing, Version: 1, EventID: 6272, FieldName: ClientIPAddress\n",
      "Provider: Microsoft-Windows-Security-Auditing, Version: 2, EventID: 6272, FieldName: ClientIPAddress\n",
      "Provider: Microsoft-Windows-Security-Auditing, Version: 0, EventID: 6273, FieldName: ClientIPAddress\n",
      "Provider: Microsoft-Windows-Security-Auditing, Version: 1, EventID: 6273, FieldName: ClientIPAddress\n",
      "Provider: Microsoft-Windows-Security-Auditing, Version: 2, EventID: 6273, FieldName: ClientIPAddress\n",
      "Provider: Microsoft-Windows-Security-Auditing, Version: 0, EventID: 6274, FieldName: ClientIPAddress\n",
      "Provider: Microsoft-Windows-Security-Auditing, Version: 1, EventID: 6274, FieldName: ClientIPAddress\n",
      "Provider: Microsoft-Windows-Security-Auditing, Version: 0, EventID: 6275, FieldName: ClientIPAddress\n",
      "Provider: Microsoft-Windows-Security-Auditing, Version: 1, EventID: 6275, FieldName: ClientIPAddress\n",
      "Provider: Microsoft-Windows-Security-Auditing, Version: 0, EventID: 6276, FieldName: ClientIPAddress\n",
      "Provider: Microsoft-Windows-Security-Auditing, Version: 0, EventID: 6277, FieldName: ClientIPAddress\n",
      "Provider: Microsoft-Windows-Security-Auditing, Version: 0, EventID: 6278, FieldName: ClientIPAddress\n",
      "Provider: Microsoft-Windows-Security-Auditing, Version: 0, EventID: 6400, FieldName: ClientIPAddress\n",
      "Provider: Microsoft-Windows-Security-Auditing, Version: 0, EventID: 6401, FieldName: ClientIPAddress\n",
      "Provider: Microsoft-Windows-Security-Auditing, Version: 0, EventID: 6402, FieldName: ClientIPAddress\n",
      "Provider: Microsoft-Windows-GroupPolicy, Version: 0, EventID: 5308, FieldName: DCIPAddress\n",
      "Provider: Microsoft-Windows-WWAN-SVC-EVENTS, Version: 0, EventID: 3016, FieldName: IpAddress\n",
      "Provider: Microsoft-Windows-Ras-AgileVpn, Version: 0, EventID: 3106, FieldName: IpAddress\n",
      "Provider: Windows Kernel Trace, Version: 0, EventID: 13, FieldName: IpAddress\n",
      "Provider: Windows Kernel Trace, Version: 1, EventID: 13, FieldName: IpAddress\n",
      "Provider: Windows Kernel Trace, Version: 2, EventID: 13, FieldName: IpAddresses\n",
      "Provider: Microsoft-Windows-DNS-Client, Version: 0, EventID: 3010, FieldName: DnsServerIpAddress\n",
      "Provider: Microsoft-Windows-DNS-Client, Version: 0, EventID: 3011, FieldName: DnsServerIpAddress\n",
      "Provider: Microsoft-Windows-DNS-Client, Version: 0, EventID: 8003, FieldName: Ipaddress\n",
      "Provider: Microsoft-Windows-DNS-Client, Version: 0, EventID: 8004, FieldName: Ipaddress\n",
      "Provider: Microsoft-Windows-DNS-Client, Version: 0, EventID: 8005, FieldName: Ipaddress\n",
      "Provider: Microsoft-Windows-DNS-Client, Version: 0, EventID: 8006, FieldName: Ipaddress\n",
      "Provider: Microsoft-Windows-DNS-Client, Version: 0, EventID: 8007, FieldName: Ipaddress\n",
      "Provider: Microsoft-Windows-DNS-Client, Version: 0, EventID: 8008, FieldName: Ipaddress\n",
      "Provider: Microsoft-Windows-DNS-Client, Version: 0, EventID: 8009, FieldName: Ipaddress\n",
      "Provider: Microsoft-Windows-DNS-Client, Version: 0, EventID: 8010, FieldName: Ipaddress\n",
      "Provider: Microsoft-Windows-DNS-Client, Version: 0, EventID: 8011, FieldName: Ipaddress\n",
      "Provider: Microsoft-Windows-DNS-Client, Version: 0, EventID: 8012, FieldName: Ipaddress\n",
      "Provider: Microsoft-Windows-DNS-Client, Version: 0, EventID: 8013, FieldName: Ipaddress\n",
      "Provider: Microsoft-Windows-DNS-Client, Version: 0, EventID: 8014, FieldName: Ipaddress\n",
      "Provider: Microsoft-Windows-DNS-Client, Version: 0, EventID: 8015, FieldName: Ipaddress\n",
      "Provider: Microsoft-Windows-DNS-Client, Version: 0, EventID: 8016, FieldName: Ipaddress\n",
      "Provider: Microsoft-Windows-DNS-Client, Version: 0, EventID: 8017, FieldName: Ipaddress\n",
      "Provider: Microsoft-Windows-DNS-Client, Version: 0, EventID: 8018, FieldName: Ipaddress\n",
      "Provider: Microsoft-Windows-DNS-Client, Version: 0, EventID: 8019, FieldName: Ipaddress\n",
      "Provider: Microsoft-Windows-DNS-Client, Version: 0, EventID: 8020, FieldName: Ipaddress\n",
      "Provider: Microsoft-Windows-DNS-Client, Version: 0, EventID: 8021, FieldName: Ipaddress\n",
      "Provider: Microsoft-Windows-DNS-Client, Version: 0, EventID: 8022, FieldName: Ipaddress\n",
      "Provider: Microsoft-Windows-DNS-Client, Version: 0, EventID: 8023, FieldName: Ipaddress\n",
      "Provider: Microsoft-Windows-DNS-Client, Version: 0, EventID: 8024, FieldName: Ipaddress\n",
      "Provider: Microsoft-Windows-DNS-Client, Version: 0, EventID: 8025, FieldName: Ipaddress\n",
      "Provider: Microsoft-Windows-DNS-Client, Version: 0, EventID: 8026, FieldName: Ipaddress\n",
      "Provider: Microsoft-Windows-DNS-Client, Version: 0, EventID: 8027, FieldName: Ipaddress\n",
      "Provider: Microsoft-Windows-DNS-Client, Version: 0, EventID: 8028, FieldName: Ipaddress\n",
      "Provider: Microsoft-Windows-DNS-Client, Version: 0, EventID: 8029, FieldName: Ipaddress\n",
      "Provider: Microsoft-Windows-DNS-Client, Version: 0, EventID: 8030, FieldName: Ipaddress\n",
      "Provider: Microsoft-Windows-DNS-Client, Version: 0, EventID: 8031, FieldName: Ipaddress\n",
      "Provider: Microsoft-Windows-DNS-Client, Version: 0, EventID: 8032, FieldName: Ipaddress\n",
      "Provider: Microsoft-Windows-DNS-Client, Version: 0, EventID: 8033, FieldName: Ipaddress\n",
      "Provider: Microsoft-Windows-DNS-Client, Version: 0, EventID: 8034, FieldName: Ipaddress\n",
      "Provider: Microsoft-Windows-DNS-Client, Version: 0, EventID: 8035, FieldName: Ipaddress\n",
      "Provider: Microsoft-Windows-DNS-Client, Version: 0, EventID: 8036, FieldName: Ipaddress\n",
      "Provider: Microsoft-Windows-DNS-Client, Version: 0, EventID: 8037, FieldName: Ipaddress\n",
      "Provider: Microsoft-Windows-DNS-Client, Version: 0, EventID: 8038, FieldName: Ipaddress\n",
      "Provider: Microsoft-Windows-NCSI, Version: 0, EventID: 4047, FieldName: IpAddressLength\n",
      "Provider: Microsoft-Windows-NCSI, Version: 0, EventID: 4047, FieldName: IpAddress\n",
      "Provider: Microsoft-Windows-Base-Filtering-Engine-Resource-Flows, Version: 0, EventID: 2002, FieldName: RemoteIPAddress\n",
      "Provider: Microsoft-Windows-Base-Filtering-Engine-Resource-Flows, Version: 0, EventID: 2002, FieldName: LocalIPAddress\n",
      "Provider: Microsoft-Windows-Base-Filtering-Engine-Resource-Flows, Version: 0, EventID: 2003, FieldName: RemoteIPAddress\n",
      "Provider: Microsoft-Windows-Base-Filtering-Engine-Resource-Flows, Version: 0, EventID: 2003, FieldName: LocalIPAddress\n",
      "Provider: Microsoft-Windows-Base-Filtering-Engine-Resource-Flows, Version: 0, EventID: 2004, FieldName: RemoteIPAddress\n",
      "Provider: Microsoft-Windows-Base-Filtering-Engine-Resource-Flows, Version: 0, EventID: 2004, FieldName: LocalIPAddress\n",
      "Provider: Microsoft-Windows-Base-Filtering-Engine-Resource-Flows, Version: 0, EventID: 2005, FieldName: RemoteIPAddress\n",
      "Provider: Microsoft-Windows-Base-Filtering-Engine-Resource-Flows, Version: 0, EventID: 2005, FieldName: LocalIPAddress\n",
      "Provider: Microsoft-Windows-TCPIP, Version: 0, EventID: 1313, FieldName: IPAddressWakeReady\n",
      "Provider: Microsoft-Windows-TCPIP, Version: 0, EventID: 1324, FieldName: IPAddress\n",
      "Provider: Microsoft-Windows-TCPIP, Version: 1, EventID: 1324, FieldName: IPAddress\n",
      "Provider: Microsoft-Windows-TCPIP, Version: 0, EventID: 1325, FieldName: SourceIPAddress\n",
      "Provider: Microsoft-Windows-TCPIP, Version: 0, EventID: 1325, FieldName: TargetIPAddress\n",
      "Provider: Microsoft-Windows-TCPIP, Version: 1, EventID: 1325, FieldName: SourceIPAddress\n",
      "Provider: Microsoft-Windows-TCPIP, Version: 1, EventID: 1325, FieldName: TargetIPAddress\n",
      "Provider: Microsoft-Windows-TCPIP, Version: 0, EventID: 1326, FieldName: PreferredSourceIPAddress\n",
      "Provider: Microsoft-Windows-TCPIP, Version: 0, EventID: 1326, FieldName: NonPreferredSourceIPAddress\n",
      "Provider: Microsoft-Windows-TCPIP, Version: 0, EventID: 1326, FieldName: DestinationIPAddress\n",
      "Provider: Microsoft-Windows-TCPIP, Version: 0, EventID: 1327, FieldName: PreferredSourceIPAddress\n",
      "Provider: Microsoft-Windows-TCPIP, Version: 0, EventID: 1327, FieldName: PreferredDestinationIPAddress\n",
      "Provider: Microsoft-Windows-TCPIP, Version: 0, EventID: 1327, FieldName: NonPreferredSourceIPAddress\n",
      "Provider: Microsoft-Windows-TCPIP, Version: 0, EventID: 1327, FieldName: NonPreferredDestinationIPAddress\n",
      "Provider: Microsoft-Windows-TCPIP, Version: 1, EventID: 1327, FieldName: PreferredSourceIPAddress\n",
      "Provider: Microsoft-Windows-TCPIP, Version: 1, EventID: 1327, FieldName: PreferredDestinationIPAddress\n",
      "Provider: Microsoft-Windows-TCPIP, Version: 1, EventID: 1327, FieldName: NonPreferredSourceIPAddress\n",
      "Provider: Microsoft-Windows-TCPIP, Version: 1, EventID: 1327, FieldName: NonPreferredDestinationIPAddress\n",
      "Provider: Microsoft-Windows-TCPIP, Version: 0, EventID: 1362, FieldName: IPAddress\n",
      "Provider: Microsoft-Windows-TCPIP, Version: 0, EventID: 1363, FieldName: DestinationIPAddress\n",
      "Provider: Microsoft-Windows-TCPIP, Version: 0, EventID: 1363, FieldName: TargetIPAddress1\n",
      "Provider: Microsoft-Windows-TCPIP, Version: 0, EventID: 1363, FieldName: TargetIPAddress2\n",
      "Provider: Microsoft-Windows-TCPIP, Version: 0, EventID: 1443, FieldName: IPAddress\n",
      "Provider: Microsoft-Windows-PktMon, Version: 0, EventID: 100, FieldName: IpAddress1\n",
      "Provider: Microsoft-Windows-PktMon, Version: 0, EventID: 100, FieldName: IpAddress2\n",
      "Provider: Microsoft-Windows-PktMon, Version: 0, EventID: 110, FieldName: IpAddress1\n",
      "Provider: Microsoft-Windows-PktMon, Version: 0, EventID: 110, FieldName: IpAddress2\n",
      "Provider: Microsoft-Windows-WinNat, Version: 0, EventID: 1024, FieldName: IPAddress\n",
      "Provider: Microsoft-Windows-WinNat, Version: 0, EventID: 1025, FieldName: IPAddress\n",
      "Provider: Microsoft-Windows-WinNat, Version: 0, EventID: 1026, FieldName: IPAddress\n",
      "Provider: Microsoft-Windows-WinNat, Version: 0, EventID: 1045, FieldName: IPAddress\n",
      "Provider: Microsoft-Windows-WinNat, Version: 0, EventID: 1046, FieldName: IPAddress\n"
     ]
    }
   ],
   "source": [
    "for file in json_files:\n",
    "    with open(file) as json_file:\n",
    "        events = json.load(json_file)\n",
    "        for eventDict in events:\n",
    "            if 'event_fields' in eventDict.keys() and eventDict['event_fields']:\n",
    "                for ef in eventDict['event_fields']:\n",
    "                    if field_name.lower() in ef['field_name'].lower():\n",
    "                        print('Provider: {}, Version: {}, EventID: {}, FieldName: {}'\n",
    "                              .format(\n",
    "                                eventDict['provider'],\n",
    "                                eventDict['version'],\n",
    "                                eventDict['event_id'],\n",
    "                                ef['field_name']\n",
    "                              )\n",
    "                        )"
   ]
  },
  {
   "cell_type": "code",
   "execution_count": null,
   "metadata": {},
   "outputs": [],
   "source": []
  }
 ],
 "metadata": {
  "kernelspec": {
   "display_name": "Python 3",
   "language": "python",
   "name": "python3"
  },
  "language_info": {
   "codemirror_mode": {
    "name": "ipython",
    "version": 3
   },
   "file_extension": ".py",
   "mimetype": "text/x-python",
   "name": "python",
   "nbconvert_exporter": "python",
   "pygments_lexer": "ipython3",
   "version": "3.7.6"
  }
 },
 "nbformat": 4,
 "nbformat_minor": 4
}
